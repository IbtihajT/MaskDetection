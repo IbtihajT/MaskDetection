{
 "cells": [
  {
   "cell_type": "markdown",
   "metadata": {},
   "source": [
    "## Face Croper"
   ]
  },
  {
   "cell_type": "code",
   "execution_count": null,
   "metadata": {},
   "outputs": [],
   "source": [
    "import cv2\n",
    "import numpy as np\n",
    "import os\n",
    "import matplotlib.pyplot as plt\n",
    "from mtcnn import MTCNN\n",
    "import tqdm\n",
    "os.environ['KMP_DUPLICATE_LIB_OK'] = 'True'"
   ]
  },
  {
   "cell_type": "code",
   "execution_count": null,
   "metadata": {},
   "outputs": [],
   "source": [
    "# Path to Directories\n",
    "with_mask = \"./dataset/with_mask/\"\n",
    "without_mask = \"./dataset/without_mask/\""
   ]
  },
  {
   "cell_type": "code",
   "execution_count": null,
   "metadata": {},
   "outputs": [],
   "source": [
    "# Create MTCNN Object\n",
    "detector = MTCNN()"
   ]
  },
  {
   "cell_type": "code",
   "execution_count": null,
   "metadata": {},
   "outputs": [],
   "source": [
    "# Without Mask\n",
    "\n",
    "# Counter to name images\n",
    "counter = 0\n",
    "\n",
    "for imageName in tqdm.tqdm(os.listdir(without_mask)):\n",
    "    \n",
    "    # Path to the Image\n",
    "    pathToImage = f\"./dataset/without_mask/{imageName}\"\n",
    "    \n",
    "    # Load the Image\n",
    "    image = cv2.imread(pathToImage)\n",
    "    \n",
    "    # Detect Faces\n",
    "    detectedFaces = detector.detect_faces(image)\n",
    "    \n",
    "    if len(detectedFaces) != 0:\n",
    "        \n",
    "        # For Every detected face\n",
    "        for face in detectedFaces:\n",
    "\n",
    "            # Get the face coordinates\n",
    "            x, y, width, height = face['box']\n",
    "            \n",
    "            # Crop the face from orignal image\n",
    "            faceCrop = image[y: y+height, x: x+width]\n",
    "            \n",
    "            try: \n",
    "                # Save the image\n",
    "                cv2.imwrite(f\"./dataset/onlyFaces/withoutMask/noMask_{counter}.jpg\", faceCrop)\n",
    "            except:\n",
    "                continue\n",
    "            \n",
    "            # Increase the counter\n",
    "            counter += 1\n",
    "    else:\n",
    "        continue"
   ]
  },
  {
   "cell_type": "code",
   "execution_count": null,
   "metadata": {},
   "outputs": [],
   "source": [
    "face_cascade = cv2.CascadeClassifier(\"./haarcascade_frontalface_default.xml\")"
   ]
  },
  {
   "cell_type": "code",
   "execution_count": null,
   "metadata": {},
   "outputs": [],
   "source": [
    "# With Mask\n",
    "\n",
    "# Counter to name images\n",
    "counter = 0\n",
    "\n",
    "for imageName in tqdm.tqdm(os.listdir(with_mask)):\n",
    "# for imageName in os.listdir(with_mask):\n",
    "    # Path to image\n",
    "    pathToImage = f\"./dataset/with_mask/{imageName}\"\n",
    "    \n",
    "    # Load image\n",
    "    image = cv2.imread(pathToImage)\n",
    "    gray = cv2.cvtColor(image, cv2.COLOR_BGR2GRAY)\n",
    "    \n",
    "    # Detect Faces\n",
    "    detectedFaces = face_cascade.detectMultiScale(gray, 1.1, 5, flags=cv2.CASCADE_SCALE_IMAGE)\n",
    "    \n",
    "    # For every detected face\n",
    "    for face in detectedFaces:\n",
    "        \n",
    "        # Get the face coordinates\n",
    "        x, y, width, height = face\n",
    "        \n",
    "        # Crop the face from orignal image\n",
    "        faceCrop = image[y: y+height, x: x+width]\n",
    "        \n",
    "        try: \n",
    "            # Save the image\n",
    "            cv2.imwrite(f\"./dataset/onlyFaces/withMask/withMask_{counter}.jpg\", faceCrop)\n",
    "        except:\n",
    "            continue\n",
    "            \n",
    "        # Increase the counter\n",
    "        counter += 1\n",
    "    else:\n",
    "        continue\n",
    "    "
   ]
  },
  {
   "cell_type": "markdown",
   "metadata": {},
   "source": [
    "## Data Processing"
   ]
  },
  {
   "cell_type": "code",
   "execution_count": 42,
   "metadata": {},
   "outputs": [],
   "source": [
    "# import the necessary packages\n",
    "from tensorflow.keras.preprocessing.image import ImageDataGenerator\n",
    "from tensorflow.keras.applications import MobileNetV2\n",
    "from tensorflow.keras.layers import AveragePooling2D\n",
    "from tensorflow.keras.layers import Dropout\n",
    "from tensorflow.keras.layers import Flatten\n",
    "from tensorflow.keras.layers import Dense\n",
    "from tensorflow.keras.layers import Input\n",
    "from tensorflow.keras.models import Model\n",
    "from tensorflow.keras.optimizers import Adam\n",
    "from tensorflow.keras.applications.mobilenet_v2 import preprocess_input\n",
    "from tensorflow.keras.preprocessing.image import img_to_array\n",
    "from tensorflow.keras.preprocessing.image import load_img\n",
    "from tensorflow.keras.utils import to_categorical\n",
    "from sklearn.preprocessing import LabelBinarizer\n",
    "from sklearn.model_selection import train_test_split\n",
    "from sklearn.metrics import classification_report\n",
    "from imutils import paths\n",
    "import matplotlib.pyplot as plt\n",
    "import numpy as np\n",
    "import argparse\n",
    "import os"
   ]
  },
  {
   "cell_type": "code",
   "execution_count": 32,
   "metadata": {},
   "outputs": [],
   "source": [
    "# Load data and generate labels\n",
    "images = []\n",
    "labels = []\n",
    "\n",
    "for path in list(paths.list_images(\"./dataset/onlyFaces/\")):\n",
    "    \n",
    "    # load the input image (224x224) and preprocess it\n",
    "    image = load_img(path, target_size=(224, 224))\n",
    "    image = img_to_array(image)\n",
    "    image = preprocess_input(image)\n",
    "    \n",
    "    # Append The data\n",
    "    images.append(image)\n",
    "    \n",
    "    if \"noMask\" in path:\n",
    "        label = 0\n",
    "    else:\n",
    "        label = 1\n",
    "    labels.append(label)\n",
    "\n",
    "# convert the data and labels to NumPy arrays\n",
    "images = np.array(images, dtype=\"float32\")\n",
    "labels = np.array(labels)"
   ]
  },
  {
   "cell_type": "code",
   "execution_count": 33,
   "metadata": {},
   "outputs": [],
   "source": [
    "# perform one-hot encoding on the labels\n",
    "lb = LabelBinarizer()\n",
    "labels = lb.fit_transform(labels)\n",
    "labels = to_categorical(labels)"
   ]
  },
  {
   "cell_type": "code",
   "execution_count": 34,
   "metadata": {},
   "outputs": [],
   "source": [
    "# Train Test Split\n",
    "(trainX, testX, trainY, testY) = train_test_split(images, labels,\n",
    "test_size=0.20, stratify=labels, random_state=42)"
   ]
  },
  {
   "cell_type": "code",
   "execution_count": 35,
   "metadata": {},
   "outputs": [],
   "source": [
    "# construct the training image generator for data augmentation\n",
    "aug = ImageDataGenerator(\n",
    "    rotation_range=20,\n",
    "    zoom_range=0.15,\n",
    "    width_shift_range=0.2,\n",
    "    height_shift_range=0.2,\n",
    "    shear_range=0.15,\n",
    "    horizontal_flip=True,\n",
    "    fill_mode=\"nearest\")"
   ]
  },
  {
   "cell_type": "code",
   "execution_count": 36,
   "metadata": {},
   "outputs": [
    {
     "name": "stderr",
     "output_type": "stream",
     "text": [
      "/Users/ibtihajtahir/anaconda3/envs/tf/lib/python3.7/site-packages/keras_applications/mobilenet_v2.py:294: UserWarning: `input_shape` is undefined or non-square, or `rows` is not in [96, 128, 160, 192, 224]. Weights for input shape (224, 224) will be loaded as the default.\n",
      "  warnings.warn('`input_shape` is undefined or non-square, '\n"
     ]
    },
    {
     "name": "stdout",
     "output_type": "stream",
     "text": [
      "Downloading data from https://github.com/JonathanCMitchell/mobilenet_v2_keras/releases/download/v1.1/mobilenet_v2_weights_tf_dim_ordering_tf_kernels_1.0_224_no_top.h5\n",
      "9412608/9406464 [==============================] - 3s 0us/step\n"
     ]
    }
   ],
   "source": [
    "# Model\n",
    "\n",
    "# load the MobileNetV2 network, ensuring the head FC layer sets are\n",
    "# left off\n",
    "baseModel = MobileNetV2(weights=\"imagenet\", include_top=False,\n",
    "    input_tensor=Input(shape=(224, 224, 3)))\n",
    "# construct the head of the model that will be placed on top of the\n",
    "# the base model\n",
    "headModel = baseModel.output\n",
    "headModel = AveragePooling2D(pool_size=(7, 7))(headModel)\n",
    "headModel = Flatten(name=\"flatten\")(headModel)\n",
    "headModel = Dense(128, activation=\"relu\")(headModel)\n",
    "headModel = Dropout(0.5)(headModel)\n",
    "headModel = Dense(2, activation=\"softmax\")(headModel)\n",
    "# place the head FC model on top of the base model (this will become\n",
    "# the actual model we will train)\n",
    "model = Model(inputs=baseModel.input, outputs=headModel)\n",
    "# loop over all layers in the base model and freeze them so they will\n",
    "# *not* be updated during the first training process\n",
    "for layer in baseModel.layers:\n",
    "    layer.trainable = False"
   ]
  },
  {
   "cell_type": "code",
   "execution_count": 38,
   "metadata": {},
   "outputs": [
    {
     "name": "stdout",
     "output_type": "stream",
     "text": [
      "[INFO] compiling model...\n"
     ]
    }
   ],
   "source": [
    "# initialize the initial learning rate, number of epochs to train for,\n",
    "# and batch size\n",
    "INIT_LR = 1e-4\n",
    "EPOCHS = 20\n",
    "BS = 32\n",
    "\n",
    "# compile our model\n",
    "print(\"[INFO] compiling model...\")\n",
    "opt = Adam(lr=INIT_LR, decay=INIT_LR / EPOCHS)\n",
    "model.compile(loss=\"binary_crossentropy\", optimizer=opt,\n",
    "    metrics=[\"accuracy\"])"
   ]
  },
  {
   "cell_type": "code",
   "execution_count": 39,
   "metadata": {},
   "outputs": [
    {
     "name": "stdout",
     "output_type": "stream",
     "text": [
      "[INFO] training head...\n",
      "Train for 24 steps, validate on 194 samples\n",
      "Epoch 1/20\n",
      "24/24 [==============================] - 39s 2s/step - loss: 0.6626 - accuracy: 0.6784 - val_loss: 0.6794 - val_accuracy: 0.5417\n",
      "Epoch 2/20\n",
      "24/24 [==============================] - 34s 1s/step - loss: 0.4015 - accuracy: 0.8229 - val_loss: 0.5043 - val_accuracy: 0.7396\n",
      "Epoch 3/20\n",
      "24/24 [==============================] - 33s 1s/step - loss: 0.3019 - accuracy: 0.8851 - val_loss: 0.4465 - val_accuracy: 0.7812\n",
      "Epoch 4/20\n",
      "24/24 [==============================] - 33s 1s/step - loss: 0.2385 - accuracy: 0.9149 - val_loss: 0.3064 - val_accuracy: 0.9115\n",
      "Epoch 5/20\n",
      "24/24 [==============================] - 33s 1s/step - loss: 0.1947 - accuracy: 0.9419 - val_loss: 0.2999 - val_accuracy: 0.9062\n",
      "Epoch 6/20\n",
      "24/24 [==============================] - 33s 1s/step - loss: 0.1443 - accuracy: 0.9500 - val_loss: 0.2307 - val_accuracy: 0.9531\n",
      "Epoch 7/20\n",
      "24/24 [==============================] - 33s 1s/step - loss: 0.1514 - accuracy: 0.9459 - val_loss: 0.2581 - val_accuracy: 0.9323\n",
      "Epoch 8/20\n",
      "24/24 [==============================] - 33s 1s/step - loss: 0.1126 - accuracy: 0.9676 - val_loss: 0.1968 - val_accuracy: 0.9479\n",
      "Epoch 9/20\n",
      "24/24 [==============================] - 33s 1s/step - loss: 0.1093 - accuracy: 0.9730 - val_loss: 0.1712 - val_accuracy: 0.9635\n",
      "Epoch 10/20\n",
      "24/24 [==============================] - 33s 1s/step - loss: 0.0929 - accuracy: 0.9703 - val_loss: 0.2198 - val_accuracy: 0.9375\n",
      "Epoch 11/20\n",
      "24/24 [==============================] - 33s 1s/step - loss: 0.0990 - accuracy: 0.9662 - val_loss: 0.1659 - val_accuracy: 0.9583\n",
      "Epoch 12/20\n",
      "24/24 [==============================] - 33s 1s/step - loss: 0.0984 - accuracy: 0.9689 - val_loss: 0.1706 - val_accuracy: 0.9531\n",
      "Epoch 13/20\n",
      "24/24 [==============================] - 33s 1s/step - loss: 0.0934 - accuracy: 0.9701 - val_loss: 0.1339 - val_accuracy: 0.9740\n",
      "Epoch 14/20\n",
      "24/24 [==============================] - 33s 1s/step - loss: 0.0773 - accuracy: 0.9824 - val_loss: 0.1257 - val_accuracy: 0.9740\n",
      "Epoch 15/20\n",
      "24/24 [==============================] - 33s 1s/step - loss: 0.0895 - accuracy: 0.9716 - val_loss: 0.1279 - val_accuracy: 0.9792\n",
      "Epoch 16/20\n",
      "24/24 [==============================] - 33s 1s/step - loss: 0.0682 - accuracy: 0.9878 - val_loss: 0.1242 - val_accuracy: 0.9792\n",
      "Epoch 17/20\n",
      "24/24 [==============================] - 33s 1s/step - loss: 0.0707 - accuracy: 0.9770 - val_loss: 0.1337 - val_accuracy: 0.9688\n",
      "Epoch 18/20\n",
      "24/24 [==============================] - 33s 1s/step - loss: 0.0724 - accuracy: 0.9743 - val_loss: 0.1205 - val_accuracy: 0.9792\n",
      "Epoch 19/20\n",
      "24/24 [==============================] - 33s 1s/step - loss: 0.0715 - accuracy: 0.9865 - val_loss: 0.1267 - val_accuracy: 0.9688\n",
      "Epoch 20/20\n",
      "24/24 [==============================] - 33s 1s/step - loss: 0.0653 - accuracy: 0.9797 - val_loss: 0.1147 - val_accuracy: 0.9792\n"
     ]
    }
   ],
   "source": [
    "# train the head of the network\n",
    "print(\"[INFO] training head...\")\n",
    "H = model.fit(\n",
    "    aug.flow(trainX, trainY, batch_size=BS),\n",
    "    steps_per_epoch=len(trainX) // BS,\n",
    "    validation_data=(testX, testY),\n",
    "    validation_steps=len(testX) // BS,\n",
    "    epochs=EPOCHS)"
   ]
  },
  {
   "cell_type": "code",
   "execution_count": 49,
   "metadata": {},
   "outputs": [
    {
     "data": {
      "image/png": "[encoded data removed]",
      "text/plain": [
       "<Figure size 432x288 with 1 Axes>"
      ]
     },
     "metadata": {},
     "output_type": "display_data"
    }
   ],
   "source": [
    "N = EPOCHS\n",
    "plt.figure()\n",
    "plt.plot(np.arange(0, N), H.history[\"loss\"], label=\"train_loss\")\n",
    "plt.plot(np.arange(0, N), H.history[\"val_loss\"], label=\"val_loss\")\n",
    "plt.plot(np.arange(0, N), H.history[\"accuracy\"], label=\"train_acc\")\n",
    "plt.plot(np.arange(0, N), H.history[\"val_accuracy\"], label=\"val_acc\")\n",
    "plt.title(\"Training Loss and Accuracy\")\n",
    "plt.xlabel(\"Epoch #\")\n",
    "plt.ylabel(\"Loss/Accuracy\")\n",
    "plt.legend(loc=\"lower left\")\n",
    "plt.show()"
   ]
  },
  {
   "cell_type": "code",
   "execution_count": null,
   "metadata": {},
   "outputs": [],
   "source": []
  }
 ],
 "metadata": {
  "kernelspec": {
   "display_name": "Python 3",
   "language": "python",
   "name": "python3"
  },
  "language_info": {
   "codemirror_mode": {
    "name": "ipython",
    "version": 3
   },
   "file_extension": ".py",
   "mimetype": "text/x-python",
   "name": "python",
   "nbconvert_exporter": "python",
   "pygments_lexer": "ipython3",
   "version": "3.8.5"
  }
 },
 "nbformat": 4,
 "nbformat_minor": 4
}
